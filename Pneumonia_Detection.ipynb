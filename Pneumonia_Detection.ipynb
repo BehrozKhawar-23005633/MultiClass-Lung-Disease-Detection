{
  "nbformat": 4,
  "nbformat_minor": 0,
  "metadata": {
    "colab": {
      "provenance": [],
      "gpuType": "T4",
      "authorship_tag": "ABX9TyNZuyzNfH2fDid0yjyJNX7V",
      "include_colab_link": true
    },
    "kernelspec": {
      "name": "python3",
      "display_name": "Python 3"
    },
    "language_info": {
      "name": "python"
    },
    "accelerator": "GPU"
  },
  "cells": [
    {
      "cell_type": "markdown",
      "metadata": {
        "id": "view-in-github",
        "colab_type": "text"
      },
      "source": [
        "<a href=\"https://colab.research.google.com/github/BehrozKhawar-23005633/MultiClass-Lung-Disease-Detection/blob/main/Pneumonia_Detection.ipynb\" target=\"_parent\"><img src=\"https://colab.research.google.com/assets/colab-badge.svg\" alt=\"Open In Colab\"/></a>"
      ]
    },
    {
      "cell_type": "markdown",
      "source": [
        "## **Import Libraries**"
      ],
      "metadata": {
        "id": "ov83lBymo2yl"
      }
    },
    {
      "cell_type": "code",
      "execution_count": 5,
      "metadata": {
        "id": "gSZ9S2FN6AcG"
      },
      "outputs": [],
      "source": [
        "import pandas as pd\n",
        "import os"
      ]
    },
    {
      "cell_type": "markdown",
      "source": [
        "# **Mount Google Drive**"
      ],
      "metadata": {
        "id": "IXbq7tp3pD8U"
      }
    },
    {
      "cell_type": "code",
      "source": [
        "from google.colab import drive\n",
        "drive.mount('/content/drive')"
      ],
      "metadata": {
        "colab": {
          "base_uri": "https://localhost:8080/"
        },
        "id": "wadlnyiHFSKB",
        "outputId": "0fb77293-b769-415f-d51e-c6dafab2807f"
      },
      "execution_count": 2,
      "outputs": [
        {
          "output_type": "stream",
          "name": "stdout",
          "text": [
            "Mounted at /content/drive\n"
          ]
        }
      ]
    },
    {
      "cell_type": "markdown",
      "source": [
        "# **Verify dataset location**"
      ],
      "metadata": {
        "id": "YR93sMmupzpw"
      }
    },
    {
      "cell_type": "code",
      "source": [
        "!ls \"/content/drive/MyDrive/Colab Notebooks/COVID-19_Radiography_Dataset\""
      ],
      "metadata": {
        "colab": {
          "base_uri": "https://localhost:8080/"
        },
        "id": "Ba3THVDeG2iO",
        "outputId": "683d57c3-930d-47a2-a59c-d683708e777d"
      },
      "execution_count": 3,
      "outputs": [
        {
          "output_type": "stream",
          "name": "stdout",
          "text": [
            " COVID\t\t       Lung_Opacity.metadata.xlsx   README.md.txt\n",
            " COVID.metadata.xlsx   Normal\t\t\t   'Viral Pneumonia'\n",
            " Lung_Opacity\t       Normal.metadata.xlsx\t   'Viral Pneumonia.metadata.xlsx'\n"
          ]
        }
      ]
    },
    {
      "cell_type": "markdown",
      "source": [
        "# **Count Images in Each Class**"
      ],
      "metadata": {
        "id": "QT4eooayC6ft"
      }
    },
    {
      "cell_type": "code",
      "source": [
        "# Define dataset path\n",
        "dataset_path = \"/content/drive/MyDrive/Colab Notebooks/COVID-19_Radiography_Dataset\"\n",
        "\n",
        "# Count images in each category (inside 'images' subfolder)\n",
        "categories = [\"COVID\", \"Viral Pneumonia\", \"Normal\", \"Lung_Opacity\"]\n",
        "for category in categories:\n",
        "    image_folder = os.path.join(dataset_path, category, \"images\")  # Access 'images' subfolder\n",
        "    if os.path.exists(image_folder):  # Ensure the folder exists\n",
        "        num_images = len(os.listdir(image_folder))\n",
        "        print(f\"Category: {category}, Image Count: {num_images}\")\n",
        "    else:\n",
        "        print(f\"Warning: No 'images' folder found in {category}\")"
      ],
      "metadata": {
        "id": "FXym1DoRF1F1",
        "colab": {
          "base_uri": "https://localhost:8080/"
        },
        "outputId": "848dd683-f040-4f85-9341-3bc5764406f3"
      },
      "execution_count": 7,
      "outputs": [
        {
          "output_type": "stream",
          "name": "stdout",
          "text": [
            "Category: COVID, Image Count: 3616\n",
            "Category: Viral Pneumonia, Image Count: 1345\n",
            "Category: Normal, Image Count: 10192\n",
            "Category: Lung_Opacity, Image Count: 6012\n"
          ]
        }
      ]
    }
  ]
}